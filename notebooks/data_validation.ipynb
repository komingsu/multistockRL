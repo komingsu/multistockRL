{
 "cells": [
  {
   "cell_type": "markdown",
   "metadata": {},
   "source": [
    "# Data Validation Checklist"
   ]
  },
  {
   "cell_type": "markdown",
   "metadata": {},
   "source": [
    "Use this notebook to run schema checks and baseline statistics for each processed CSV drop before training."
   ]
  },
  {
   "cell_type": "code",
   "execution_count": null,
   "metadata": {},
   "outputs": [],
   "source": [
    "from __future__ import annotations\n",
    "\n",
    "import pandas as pd\n",
    "from src.data.schema import PRIMARY_KEY, validate_dataframe\n",
    "from src.utils.config import load_config\n",
    "\n",
    "config = load_config(\"configs/base.yaml\")\n",
    "df = pd.read_csv(config.data_path)\n",
    "errors = validate_dataframe(df)\n",
    "if errors:\n",
    "    print(\"Schema violations detected:\")\n",
    "    for error in errors:\n",
    "        print(\"-\", error)\n",
    "else:\n",
    "    print(\"Schema validation passed. OK\")\n",
    "\n",
    "row_count = len(df)\n",
    "unique_rows = df.drop_duplicates(subset=list(PRIMARY_KEY)).shape[0]\n",
    "print(f\"Rows: {row_count:,}\")\n",
    "print(f\"Unique {PRIMARY_KEY}: {unique_rows:,}\")\n",
    "\n",
    "summary = df.describe(include=\"all\", percentiles=[0.01, 0.5, 0.99])\n",
    "summary.head()"
   ]
  }
 ],
 "metadata": {
  "kernelspec": {
   "display_name": "Python 3",
   "language": "python",
   "name": "python3"
  },
  "language_info": {
   "codemirror_mode": {
    "name": "ipython",
    "version": 3
   },
   "file_extension": ".py",
   "mimetype": "text/x-python",
   "name": "python",
   "nbconvert_exporter": "python",
   "pygments_lexer": "ipython3",
   "version": "3.10"
  }
 },
 "nbformat": 4,
 "nbformat_minor": 5
}
